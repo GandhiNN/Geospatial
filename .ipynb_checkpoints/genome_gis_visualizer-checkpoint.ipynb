{
 "cells": [
  {
   "cell_type": "markdown",
   "metadata": {},
   "source": [
    "## Genome Geospatial Visualizer\n",
    "Just a simple coordinates plotter on top of `leaflet` Open Street Map API  "
   ]
  },
  {
   "cell_type": "code",
   "execution_count": 1,
   "metadata": {},
   "outputs": [],
   "source": [
    "# Import modules\n",
    "import csv\n",
    "import folium\n",
    "import os\n",
    "import pandas as pd\n",
    "import requests\n",
    "from dotenv import load_dotenv\n",
    "from pathlib import Path"
   ]
  },
  {
   "cell_type": "code",
   "execution_count": 2,
   "metadata": {},
   "outputs": [
    {
     "data": {
      "text/plain": [
       "True"
      ]
     },
     "execution_count": 2,
     "metadata": {},
     "output_type": "execute_result"
    }
   ],
   "source": [
    "# Load the environment variable in topmost directory\n",
    "env_path = Path('.')/'.env'\n",
    "load_dotenv(dotenv_path=env_path)"
   ]
  },
  {
   "cell_type": "code",
   "execution_count": 3,
   "metadata": {},
   "outputs": [],
   "source": [
    "# Set the path towards our data directory\n",
    "data_dir = str(Path.cwd()) + '/data'"
   ]
  },
  {
   "cell_type": "code",
   "execution_count": 4,
   "metadata": {},
   "outputs": [],
   "source": [
    "# At this point, parsed kv from the .env file is now present as system environment\n",
    "# variable and they can be conveniently accessed via `os.getenv()`\n",
    "BASE_URL = os.getenv(\"BASE_URL\")\n",
    "GOOGLE_API_KEY = os.getenv(\"GOOGLE_GEOCODING_API\")"
   ]
  },
  {
   "cell_type": "code",
   "execution_count": 5,
   "metadata": {},
   "outputs": [],
   "source": [
    "def normalize_trajectory(trajectory_txt, trajectory_csv):\n",
    "    \"\"\"Return the trajectory data in csv format\"\"\"\n",
    "    with open(trajectory_txt, 'r') as in_file:\n",
    "        stripped = (line.strip() for line in in_file)\n",
    "        lines = (line.split(\";\") for line in stripped if line)\n",
    "        fin_list = []\n",
    "        for line in lines:\n",
    "            msisdn = line[0]\n",
    "            line_new = line[1:]\n",
    "            for line_child in line_new:\n",
    "                line_child_list = line_child.split(',')\n",
    "                line_child_list.insert(0, msisdn)\n",
    "                fin_list.append(line_child_list)\n",
    "        with open(trajectory_csv, 'w') as out_file:\n",
    "            writer = csv.writer(out_file, delimiter=',')\n",
    "            header = ('msisdn', 'lng', 'lat', 'timestamp', 'cell_density', 'cell_id')\n",
    "            writer.writerow(header)\n",
    "            writer.writerows(fin_list)"
   ]
  },
  {
   "cell_type": "code",
   "execution_count": 6,
   "metadata": {},
   "outputs": [],
   "source": [
    "def extract_lat_long_via_address(GOOGLE_API_KEY, BASE_URL, address='Jakarta'):\n",
    "    \"\"\"Return a 2-tuple of latitude and longitude of place of interest\"\"\"\n",
    "    lat, lng = None, None\n",
    "    api_key = GOOGLE_API_KEY\n",
    "    base_url = BASE_URL\n",
    "    endpoint = f\"{base_url}?address={address}&key={api_key}\"\n",
    "    r = requests.get(endpoint)\n",
    "    if r.status_code not in range(200, 299):\n",
    "        return None, None\n",
    "    try:\n",
    "        results = r.json()['results'][0]\n",
    "        lat = results['geometry']['location']['lat']\n",
    "        lng = results['geometry']['location']['lng']\n",
    "    except:\n",
    "        pass\n",
    "    return (lat, lng)"
   ]
  },
  {
   "cell_type": "code",
   "execution_count": 7,
   "metadata": {},
   "outputs": [],
   "source": [
    "def create_map(centre_coord_tuple, zoom_level=10, tiles='openstreetmap'):\n",
    "    \"\"\"Build a map visualization layer centered on a coord tuple with a certain zoom level.\n",
    "       ADD ON : Add switching between layers/tiles\"\"\"\n",
    "    my_map = folium.Map(location=centre_coord_tuple, zoom_start=zoom_level, tiles=tiles)\n",
    "    # add cartodbpositron tiles...\n",
    "    folium.TileLayer('CartoDBPositron').add_to(my_map)\n",
    "    # add a control for switching between layers\n",
    "    folium.LayerControl().add_to(my_map)\n",
    "    return my_map"
   ]
  },
  {
   "cell_type": "code",
   "execution_count": 14,
   "metadata": {},
   "outputs": [],
   "source": [
    "def apply_marker(csv_file, my_map, lng_field_name='lng', lat_field_name='lat', popup_field=None):\n",
    "    \"\"\"Extract longitude-latitude pair from a given csv file and \n",
    "    apply them as coordinate marker to our map\"\"\"\n",
    "    dataframe = pd.read_csv(csv_file)\n",
    "    for row in dataframe.itertuples():\n",
    "        my_map.add_child(folium.Marker(location=[row[lat_field_name], row[lng_field_name], popup=row.popup_field))\n",
    "    return my_map"
   ]
  },
  {
   "cell_type": "code",
   "execution_count": 15,
   "metadata": {},
   "outputs": [],
   "source": [
    "# Normalize_trajectory data\n",
    "# use v2 : UPCC only event type '1'\n",
    "pathin = data_dir + '/trajectory_6281219293050_20190215_v2.txt'\n",
    "pathout = data_dir + '/trajectory_6281219293050_20190215_v2.csv'\n",
    "\n",
    "normalize_trajectory(pathin, pathout)"
   ]
  },
  {
   "cell_type": "code",
   "execution_count": 16,
   "metadata": {},
   "outputs": [],
   "source": [
    "# Try the above create_map\n",
    "coord_jkt = extract_lat_long_via_address(GOOGLE_API_KEY, BASE_URL, address='Jakarta')\n",
    "map_jkt = create_map(coord_jkt, zoom_level=12)"
   ]
  },
  {
   "cell_type": "code",
   "execution_count": 17,
   "metadata": {},
   "outputs": [
    {
     "ename": "TypeError",
     "evalue": "tuple indices must be integers or slices, not str",
     "output_type": "error",
     "traceback": [
      "\u001b[0;31m---------------------------------------------------------------------------\u001b[0m",
      "\u001b[0;31mTypeError\u001b[0m                                 Traceback (most recent call last)",
      "\u001b[0;32m<ipython-input-17-b68bdc46a094>\u001b[0m in \u001b[0;36m<module>\u001b[0;34m\u001b[0m\n\u001b[1;32m      1\u001b[0m \u001b[0;31m# Load our trajectory into the map\u001b[0m\u001b[0;34m\u001b[0m\u001b[0;34m\u001b[0m\u001b[0;34m\u001b[0m\u001b[0m\n\u001b[0;32m----> 2\u001b[0;31m \u001b[0mmap_traj\u001b[0m \u001b[0;34m=\u001b[0m \u001b[0mapply_marker\u001b[0m\u001b[0;34m(\u001b[0m\u001b[0mpathout\u001b[0m\u001b[0;34m,\u001b[0m \u001b[0mmap_jkt\u001b[0m\u001b[0;34m,\u001b[0m \u001b[0mlng_field_name\u001b[0m\u001b[0;34m=\u001b[0m\u001b[0;34m'lng'\u001b[0m\u001b[0;34m,\u001b[0m \u001b[0mlat_field_name\u001b[0m\u001b[0;34m=\u001b[0m\u001b[0;34m'lat'\u001b[0m\u001b[0;34m,\u001b[0m \u001b[0mpopup_field\u001b[0m\u001b[0;34m=\u001b[0m\u001b[0;34m'cell_id'\u001b[0m\u001b[0;34m)\u001b[0m\u001b[0;34m\u001b[0m\u001b[0;34m\u001b[0m\u001b[0m\n\u001b[0m",
      "\u001b[0;32m<ipython-input-14-5109a8dbce19>\u001b[0m in \u001b[0;36mapply_marker\u001b[0;34m(csv_file, my_map, lng_field_name, lat_field_name, popup_field)\u001b[0m\n\u001b[1;32m      4\u001b[0m     \u001b[0mdataframe\u001b[0m \u001b[0;34m=\u001b[0m \u001b[0mpd\u001b[0m\u001b[0;34m.\u001b[0m\u001b[0mread_csv\u001b[0m\u001b[0;34m(\u001b[0m\u001b[0mcsv_file\u001b[0m\u001b[0;34m)\u001b[0m\u001b[0;34m\u001b[0m\u001b[0;34m\u001b[0m\u001b[0m\n\u001b[1;32m      5\u001b[0m     \u001b[0;32mfor\u001b[0m \u001b[0mrow\u001b[0m \u001b[0;32min\u001b[0m \u001b[0mdataframe\u001b[0m\u001b[0;34m.\u001b[0m\u001b[0mitertuples\u001b[0m\u001b[0;34m(\u001b[0m\u001b[0;34m)\u001b[0m\u001b[0;34m:\u001b[0m\u001b[0;34m\u001b[0m\u001b[0;34m\u001b[0m\u001b[0m\n\u001b[0;32m----> 6\u001b[0;31m         \u001b[0mmy_map\u001b[0m\u001b[0;34m.\u001b[0m\u001b[0madd_child\u001b[0m\u001b[0;34m(\u001b[0m\u001b[0mfolium\u001b[0m\u001b[0;34m.\u001b[0m\u001b[0mMarker\u001b[0m\u001b[0;34m(\u001b[0m\u001b[0mlocation\u001b[0m\u001b[0;34m=\u001b[0m\u001b[0;34m[\u001b[0m\u001b[0mrow\u001b[0m\u001b[0;34m[\u001b[0m\u001b[0mlat_field_name\u001b[0m\u001b[0;34m]\u001b[0m\u001b[0;34m,\u001b[0m \u001b[0mrow\u001b[0m\u001b[0;34m[\u001b[0m\u001b[0mlng_field_name\u001b[0m\u001b[0;34m]\u001b[0m\u001b[0;34m]\u001b[0m\u001b[0;34m,\u001b[0m \u001b[0mpopup\u001b[0m\u001b[0;34m=\u001b[0m\u001b[0mrow\u001b[0m\u001b[0;34m[\u001b[0m\u001b[0mpopup_field\u001b[0m\u001b[0;34m]\u001b[0m\u001b[0;34m)\u001b[0m\u001b[0;34m)\u001b[0m\u001b[0;34m\u001b[0m\u001b[0;34m\u001b[0m\u001b[0m\n\u001b[0m\u001b[1;32m      7\u001b[0m     \u001b[0;32mreturn\u001b[0m \u001b[0mmy_map\u001b[0m\u001b[0;34m\u001b[0m\u001b[0;34m\u001b[0m\u001b[0m\n",
      "\u001b[0;31mTypeError\u001b[0m: tuple indices must be integers or slices, not str"
     ]
    }
   ],
   "source": [
    "# Load our trajectory into the map\n",
    "map_traj = apply_marker(pathout, map_jkt, lng_field_name='lng', lat_field_name='lat', popup_field='cell_id')"
   ]
  },
  {
   "cell_type": "code",
   "execution_count": null,
   "metadata": {},
   "outputs": [],
   "source": [
    "# show our map\n",
    "map_traj"
   ]
  },
  {
   "cell_type": "code",
   "execution_count": null,
   "metadata": {},
   "outputs": [],
   "source": []
  }
 ],
 "metadata": {
  "kernelspec": {
   "display_name": "Python 3",
   "language": "python",
   "name": "python3"
  },
  "language_info": {
   "codemirror_mode": {
    "name": "ipython",
    "version": 3
   },
   "file_extension": ".py",
   "mimetype": "text/x-python",
   "name": "python",
   "nbconvert_exporter": "python",
   "pygments_lexer": "ipython3",
   "version": "3.7.5"
  }
 },
 "nbformat": 4,
 "nbformat_minor": 2
}
